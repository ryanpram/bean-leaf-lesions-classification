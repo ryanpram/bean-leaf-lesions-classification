{
 "cells": [
  {
   "cell_type": "code",
   "execution_count": 1,
   "id": "45f02d8a",
   "metadata": {},
   "outputs": [
    {
     "name": "stderr",
     "output_type": "stream",
     "text": [
      "2023-12-19 15:38:46.653744: I tensorflow/core/util/util.cc:169] oneDNN custom operations are on. You may see slightly different numerical results due to floating-point round-off errors from different computation orders. To turn them off, set the environment variable `TF_ENABLE_ONEDNN_OPTS=0`.\n"
     ]
    },
    {
     "data": {
      "text/plain": [
       "'2.9.1'"
      ]
     },
     "execution_count": 1,
     "metadata": {},
     "output_type": "execute_result"
    }
   ],
   "source": [
    "import tensorflow as tf\n",
    "from tensorflow import keras\n",
    "\n",
    "tf.__version__"
   ]
  },
  {
   "cell_type": "markdown",
   "id": "867ff9cd",
   "metadata": {},
   "source": [
    "## Load Model With Keras"
   ]
  },
  {
   "cell_type": "code",
   "execution_count": 3,
   "id": "498d182c",
   "metadata": {},
   "outputs": [
    {
     "name": "stderr",
     "output_type": "stream",
     "text": [
      "2023-12-19 15:42:04.980692: I tensorflow/stream_executor/cuda/cuda_gpu_executor.cc:975] successful NUMA node read from SysFS had negative value (-1), but there must be at least one NUMA node, so returning NUMA node zero\n",
      "2023-12-19 15:42:04.988803: I tensorflow/stream_executor/cuda/cuda_gpu_executor.cc:975] successful NUMA node read from SysFS had negative value (-1), but there must be at least one NUMA node, so returning NUMA node zero\n",
      "2023-12-19 15:42:04.989446: I tensorflow/stream_executor/cuda/cuda_gpu_executor.cc:975] successful NUMA node read from SysFS had negative value (-1), but there must be at least one NUMA node, so returning NUMA node zero\n",
      "2023-12-19 15:42:04.990351: I tensorflow/core/platform/cpu_feature_guard.cc:193] This TensorFlow binary is optimized with oneAPI Deep Neural Network Library (oneDNN) to use the following CPU instructions in performance-critical operations:  AVX2 AVX512F AVX512_VNNI FMA\n",
      "To enable them in other operations, rebuild TensorFlow with the appropriate compiler flags.\n",
      "2023-12-19 15:42:04.990718: I tensorflow/stream_executor/cuda/cuda_gpu_executor.cc:975] successful NUMA node read from SysFS had negative value (-1), but there must be at least one NUMA node, so returning NUMA node zero\n",
      "2023-12-19 15:42:04.991336: I tensorflow/stream_executor/cuda/cuda_gpu_executor.cc:975] successful NUMA node read from SysFS had negative value (-1), but there must be at least one NUMA node, so returning NUMA node zero\n",
      "2023-12-19 15:42:04.991884: I tensorflow/stream_executor/cuda/cuda_gpu_executor.cc:975] successful NUMA node read from SysFS had negative value (-1), but there must be at least one NUMA node, so returning NUMA node zero\n",
      "2023-12-19 15:42:05.653706: I tensorflow/stream_executor/cuda/cuda_gpu_executor.cc:975] successful NUMA node read from SysFS had negative value (-1), but there must be at least one NUMA node, so returning NUMA node zero\n",
      "2023-12-19 15:42:05.654346: I tensorflow/stream_executor/cuda/cuda_gpu_executor.cc:975] successful NUMA node read from SysFS had negative value (-1), but there must be at least one NUMA node, so returning NUMA node zero\n",
      "2023-12-19 15:42:05.654875: I tensorflow/stream_executor/cuda/cuda_gpu_executor.cc:975] successful NUMA node read from SysFS had negative value (-1), but there must be at least one NUMA node, so returning NUMA node zero\n",
      "2023-12-19 15:42:05.655404: I tensorflow/core/common_runtime/gpu/gpu_device.cc:1532] Created device /job:localhost/replica:0/task:0/device:GPU:0 with 13795 MB memory:  -> device: 0, name: Tesla T4, pci bus id: 0000:00:1e.0, compute capability: 7.5\n"
     ]
    }
   ],
   "source": [
    "model = keras.models.load_model('./saved_model/xception_bean_leaf_16_0.947.h5')"
   ]
  },
  {
   "cell_type": "code",
   "execution_count": 4,
   "id": "eb9cb0f7",
   "metadata": {},
   "outputs": [],
   "source": [
    "from tensorflow.keras.preprocessing.image import load_img\n",
    "from tensorflow.keras.applications.xception import preprocess_input\n",
    "import numpy as np"
   ]
  },
  {
   "cell_type": "code",
   "execution_count": 12,
   "id": "2418f758",
   "metadata": {},
   "outputs": [],
   "source": [
    "img = load_img('./data/val/healthy/healthy_val.1.jpg',target_size=(299,299))"
   ]
  },
  {
   "cell_type": "code",
   "execution_count": 13,
   "id": "a918cc1b",
   "metadata": {},
   "outputs": [],
   "source": [
    "x = np.array(img)\n",
    "X = np.array([x])\n",
    "\n",
    "X = preprocess_input(X)"
   ]
  },
  {
   "cell_type": "code",
   "execution_count": 14,
   "id": "4c3aea2b",
   "metadata": {},
   "outputs": [
    {
     "name": "stdout",
     "output_type": "stream",
     "text": [
      "1/1 [==============================] - 0s 60ms/step\n"
     ]
    }
   ],
   "source": [
    "preds = model.predict(X)"
   ]
  },
  {
   "cell_type": "code",
   "execution_count": 15,
   "id": "b8848b42",
   "metadata": {},
   "outputs": [
    {
     "data": {
      "text/plain": [
       "array([[-6.301956 , -2.1655529,  8.311718 ]], dtype=float32)"
      ]
     },
     "execution_count": 15,
     "metadata": {},
     "output_type": "execute_result"
    }
   ],
   "source": [
    "preds"
   ]
  },
  {
   "cell_type": "code",
   "execution_count": 16,
   "id": "64de1621",
   "metadata": {},
   "outputs": [],
   "source": [
    "classes = [\n",
    "    'angular leaf spot',\n",
    "    'bean rust',\n",
    "    'healthy',\n",
    "]"
   ]
  },
  {
   "cell_type": "code",
   "execution_count": 17,
   "id": "4a27a7a7",
   "metadata": {},
   "outputs": [
    {
     "data": {
      "text/plain": [
       "{'angular leaf spot': -6.301956, 'bean rust': -2.1655529, 'healthy': 8.311718}"
      ]
     },
     "execution_count": 17,
     "metadata": {},
     "output_type": "execute_result"
    }
   ],
   "source": [
    "dict(zip(classes,preds[0]))"
   ]
  },
  {
   "cell_type": "markdown",
   "id": "3ef13e63",
   "metadata": {},
   "source": [
    "## Convert Keras to TF-Lite"
   ]
  },
  {
   "cell_type": "markdown",
   "id": "a1b92147",
   "metadata": {},
   "source": [
    "Here we want to convert keras model to tf-lite, in order tor reduce the model size. Smaller model will lead small docker size as well"
   ]
  },
  {
   "cell_type": "code",
   "execution_count": 22,
   "id": "a2bc08ef",
   "metadata": {},
   "outputs": [
    {
     "name": "stderr",
     "output_type": "stream",
     "text": [
      "WARNING:absl:Found untraced functions such as _jit_compiled_convolution_op, _jit_compiled_convolution_op, _jit_compiled_convolution_op, _jit_compiled_convolution_op, _jit_compiled_convolution_op while saving (showing 5 of 40). These functions will not be directly callable after loading.\n"
     ]
    },
    {
     "name": "stdout",
     "output_type": "stream",
     "text": [
      "INFO:tensorflow:Assets written to: /tmp/tmpcfx5uc8b/assets\n"
     ]
    },
    {
     "name": "stderr",
     "output_type": "stream",
     "text": [
      "INFO:tensorflow:Assets written to: /tmp/tmpcfx5uc8b/assets\n",
      "2023-12-19 16:04:36.776046: W tensorflow/compiler/mlir/lite/python/tf_tfl_flatbuffer_helpers.cc:362] Ignored output_format.\n",
      "2023-12-19 16:04:36.776109: W tensorflow/compiler/mlir/lite/python/tf_tfl_flatbuffer_helpers.cc:365] Ignored drop_control_dependency.\n",
      "2023-12-19 16:04:36.776286: I tensorflow/cc/saved_model/reader.cc:43] Reading SavedModel from: /tmp/tmpcfx5uc8b\n",
      "2023-12-19 16:04:36.805939: I tensorflow/cc/saved_model/reader.cc:81] Reading meta graph with tags { serve }\n",
      "2023-12-19 16:04:36.805981: I tensorflow/cc/saved_model/reader.cc:122] Reading SavedModel debug info (if present) from: /tmp/tmpcfx5uc8b\n",
      "2023-12-19 16:04:36.934779: I tensorflow/cc/saved_model/loader.cc:228] Restoring SavedModel bundle.\n",
      "2023-12-19 16:04:37.526572: I tensorflow/cc/saved_model/loader.cc:212] Running initialization op on SavedModel bundle at path: /tmp/tmpcfx5uc8b\n",
      "2023-12-19 16:04:37.770167: I tensorflow/cc/saved_model/loader.cc:301] SavedModel load for tags { serve }; Status: success: OK. Took 993881 microseconds.\n"
     ]
    }
   ],
   "source": [
    "# convert the model\n",
    "converter = tf.lite.TFLiteConverter.from_keras_model(model)\n",
    "tflite_model = converter.convert()\n",
    "\n",
    "# save the model\n",
    "with open('./saved_model/bean-leaf-model.tflite','wb') as f_out:\n",
    "    f_out.write(tflite_model)"
   ]
  },
  {
   "cell_type": "code",
   "execution_count": 25,
   "id": "47613e52",
   "metadata": {},
   "outputs": [
    {
     "name": "stdout",
     "output_type": "stream",
     "text": [
      "total 243M\r\n",
      "-rw-r--r-- 1 jovyan jovyan 81M Dec 19 16:04 bean-leaf-model.tflite\r\n",
      "-rw-rw-r-- 1 jovyan jovyan 83M Dec 17 16:16 xception_bean_leaf_16_0.947.h5\r\n",
      "-rw-rw-r-- 1 jovyan jovyan 80M Dec 16 17:17 xception_v1_03_0.925.h5\r\n"
     ]
    }
   ],
   "source": [
    "!ls -lh ./saved_model"
   ]
  },
  {
   "cell_type": "markdown",
   "id": "d6b75cf9",
   "metadata": {},
   "source": [
    "successfully reduce model size by 2 MB. The reduction in size is not that significant, possibly because the initial size of the model is not that large"
   ]
  },
  {
   "cell_type": "markdown",
   "id": "82a5bf6a",
   "metadata": {},
   "source": [
    "#### Use converted tflite model"
   ]
  },
  {
   "cell_type": "code",
   "execution_count": 26,
   "id": "a9ccdc4b",
   "metadata": {},
   "outputs": [],
   "source": [
    "import tensorflow.lite as tflite"
   ]
  },
  {
   "cell_type": "code",
   "execution_count": 27,
   "id": "5131f74b",
   "metadata": {},
   "outputs": [
    {
     "name": "stderr",
     "output_type": "stream",
     "text": [
      "INFO: Created TensorFlow Lite XNNPACK delegate for CPU.\n"
     ]
    }
   ],
   "source": [
    "# interprete converted model\n",
    "interpreter = tflite.Interpreter(model_path='./saved_model/bean-leaf-model.tflite')\n",
    "interpreter.allocate_tensors()\n",
    "\n",
    "# get input index\n",
    "input_index = interpreter.get_input_details()[0]['index']\n",
    "# get output index\n",
    "output_index = interpreter.get_output_details()[0]['index']"
   ]
  },
  {
   "cell_type": "code",
   "execution_count": 30,
   "id": "28291e96",
   "metadata": {},
   "outputs": [],
   "source": [
    "# initialing  input manually based on the corresponding index\n",
    "interpreter.set_tensor(input_index,X)\n",
    "interpreter.invoke()\n",
    "\n",
    "# preds the test image with converted tflite model\n",
    "preds = interpreter.get_tensor(output_index)"
   ]
  },
  {
   "cell_type": "code",
   "execution_count": 31,
   "id": "c2ae0e38",
   "metadata": {},
   "outputs": [
    {
     "data": {
      "text/plain": [
       "{'angular leaf spot': -6.3019586, 'bean rust': -2.1655617, 'healthy': 8.311728}"
      ]
     },
     "execution_count": 31,
     "metadata": {},
     "output_type": "execute_result"
    }
   ],
   "source": [
    "classes = [\n",
    "    'angular leaf spot',\n",
    "    'bean rust',\n",
    "    'healthy',\n",
    "]\n",
    "\n",
    "dict(zip(classes,preds[0]))"
   ]
  },
  {
   "cell_type": "markdown",
   "id": "0b9a4103",
   "metadata": {},
   "source": [
    "## Removing TF dependency"
   ]
  },
  {
   "cell_type": "markdown",
   "id": "a3547569",
   "metadata": {},
   "source": [
    "We still use tensorflow dependency for preprocessing image. So here we want to completely remove tensorflow dependency for avoid using big library dependency only for doing simple task"
   ]
  },
  {
   "cell_type": "markdown",
   "id": "4e5396df",
   "metadata": {},
   "source": [
    "Here we will leverage lightweight preprocessing library from Alexey"
   ]
  },
  {
   "cell_type": "code",
   "execution_count": 33,
   "id": "13576a44",
   "metadata": {},
   "outputs": [
    {
     "name": "stdout",
     "output_type": "stream",
     "text": [
      "Collecting keras_image_helper\n",
      "  Downloading keras_image_helper-0.0.1-py3-none-any.whl (4.6 kB)\n",
      "Requirement already satisfied: numpy in /opt/saturncloud/envs/saturn/lib/python3.9/site-packages (from keras_image_helper) (1.21.6)\n",
      "Requirement already satisfied: pillow in /opt/saturncloud/envs/saturn/lib/python3.9/site-packages (from keras_image_helper) (9.2.0)\n",
      "Installing collected packages: keras_image_helper\n",
      "Successfully installed keras_image_helper-0.0.1\n"
     ]
    }
   ],
   "source": [
    "!pip install keras_image_helper"
   ]
  },
  {
   "cell_type": "code",
   "execution_count": 49,
   "id": "cb1c58f3",
   "metadata": {},
   "outputs": [
    {
     "name": "stdout",
     "output_type": "stream",
     "text": [
      "Collecting tflite_runtime\n",
      "  Downloading tflite_runtime-2.14.0-cp39-cp39-manylinux2014_x86_64.whl (2.4 MB)\n",
      "\u001b[2K     \u001b[90m━━━━━━━━━━━━━━━━━━━━━━━━━━━━━━━━━━━━━━━━\u001b[0m \u001b[32m2.4/2.4 MB\u001b[0m \u001b[31m23.7 MB/s\u001b[0m eta \u001b[36m0:00:00\u001b[0ma \u001b[36m0:00:01\u001b[0m\n",
      "\u001b[?25hCollecting numpy>=1.23.2\n",
      "  Downloading numpy-1.26.2-cp39-cp39-manylinux_2_17_x86_64.manylinux2014_x86_64.whl (18.2 MB)\n",
      "\u001b[2K     \u001b[90m━━━━━━━━━━━━━━━━━━━━━━━━━━━━━━━━━━━━━━━━\u001b[0m \u001b[32m18.2/18.2 MB\u001b[0m \u001b[31m71.3 MB/s\u001b[0m eta \u001b[36m0:00:00\u001b[0m00:01\u001b[0m00:01\u001b[0m\n",
      "\u001b[?25hInstalling collected packages: numpy, tflite_runtime\n",
      "  Attempting uninstall: numpy\n",
      "    Found existing installation: numpy 1.21.6\n",
      "    Uninstalling numpy-1.21.6:\n",
      "      Successfully uninstalled numpy-1.21.6\n",
      "\u001b[31mERROR: pip's dependency resolver does not currently take into account all the packages that are installed. This behaviour is the source of the following dependency conflicts.\n",
      "numba 0.55.2 requires numpy<1.23,>=1.18, but you have numpy 1.26.2 which is incompatible.\u001b[0m\u001b[31m\n",
      "\u001b[0mSuccessfully installed numpy-1.26.2 tflite_runtime-2.14.0\n"
     ]
    }
   ],
   "source": [
    "!pip install tflite_runtime"
   ]
  },
  {
   "cell_type": "code",
   "execution_count": 1,
   "id": "af4b357e",
   "metadata": {},
   "outputs": [],
   "source": [
    "from keras_image_helper import create_preprocessor\n",
    "import tflite_runtime.interpreter as tflite"
   ]
  },
  {
   "cell_type": "code",
   "execution_count": 2,
   "id": "bb78a3aa",
   "metadata": {},
   "outputs": [
    {
     "name": "stderr",
     "output_type": "stream",
     "text": [
      "INFO: Created TensorFlow Lite XNNPACK delegate for CPU.\n"
     ]
    }
   ],
   "source": [
    "interpreter = tflite.Interpreter(model_path='./saved_model/bean-leaf-model.tflite')\n",
    "interpreter.allocate_tensors()\n",
    "\n",
    "input_index = interpreter.get_input_details()[0]['index']\n",
    "output_index = interpreter.get_output_details()[0]['index']"
   ]
  },
  {
   "cell_type": "code",
   "execution_count": 3,
   "id": "d80aa062",
   "metadata": {},
   "outputs": [],
   "source": [
    "preprocessor = create_preprocessor('xception', target_size=(299,299))"
   ]
  },
  {
   "cell_type": "code",
   "execution_count": 4,
   "id": "9d8ae40a",
   "metadata": {},
   "outputs": [],
   "source": [
    "url = 'https://drive.google.com/uc?export=view&id=1MGvOaIy94muwFCofOd88pNRszUUiwdvf'\n",
    "X = preprocessor.from_url(url)"
   ]
  },
  {
   "cell_type": "code",
   "execution_count": 5,
   "id": "e4fd2d9c",
   "metadata": {},
   "outputs": [],
   "source": [
    "interpreter.set_tensor(input_index,X)\n",
    "interpreter.invoke()\n",
    "\n",
    "preds = interpreter.get_tensor(output_index)"
   ]
  },
  {
   "cell_type": "code",
   "execution_count": 7,
   "id": "09173eeb",
   "metadata": {},
   "outputs": [
    {
     "data": {
      "text/plain": [
       "{'angular leaf spot': 9.285762, 'bean rust': -2.1980135, 'healthy': -8.247787}"
      ]
     },
     "execution_count": 7,
     "metadata": {},
     "output_type": "execute_result"
    }
   ],
   "source": [
    "classes = [\n",
    "    'angular leaf spot',\n",
    "    'bean rust',\n",
    "    'healthy',\n",
    "]\n",
    "dict(zip(classes,preds[0]))"
   ]
  },
  {
   "cell_type": "code",
   "execution_count": null,
   "id": "c7d18fcc",
   "metadata": {},
   "outputs": [],
   "source": []
  }
 ],
 "metadata": {
  "kernelspec": {
   "display_name": "saturn (Python 3)",
   "language": "python",
   "name": "python3"
  },
  "language_info": {
   "codemirror_mode": {
    "name": "ipython",
    "version": 3
   },
   "file_extension": ".py",
   "mimetype": "text/x-python",
   "name": "python",
   "nbconvert_exporter": "python",
   "pygments_lexer": "ipython3",
   "version": "3.9.13"
  }
 },
 "nbformat": 4,
 "nbformat_minor": 5
}
